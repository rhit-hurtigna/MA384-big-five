{
 "cells": [
  {
   "cell_type": "code",
   "execution_count": 198,
   "id": "1b9e8526-79e1-4c17-8b94-0aeb280a7d4d",
   "metadata": {},
   "outputs": [],
   "source": [
    "import pandas as pd\n",
    "import numpy as np"
   ]
  },
  {
   "cell_type": "code",
   "execution_count": 199,
   "id": "12a6b5bf-243d-4136-b5df-06fcb309d8cb",
   "metadata": {},
   "outputs": [],
   "source": [
    "num_questions = 10"
   ]
  },
  {
   "cell_type": "code",
   "execution_count": 200,
   "id": "9523f97c-80f7-4ab4-bf98-e41569476427",
   "metadata": {},
   "outputs": [],
   "source": [
    "df = pd.read_csv('data/data.csv', sep=\"\\t\")"
   ]
  },
  {
   "cell_type": "code",
   "execution_count": 201,
   "id": "572f55d8-2aa2-48c7-a61f-4d5e38515950",
   "metadata": {},
   "outputs": [],
   "source": [
    "factors = {'EXT': 'extraversion', 'EST': 'stability', 'AGR': 'agreeableness', 'CSN': 'conscientiousness', 'OPN': 'openness'}\n",
    "inversion = {'EXT': {2, 4, 6, 8, 10}, 'AGR': {1, 3, 5, 7}, 'EST': {1, 3, 5, 6, 7, 8, 9, 10}, 'CSN': {2, 4, 6, 8}, 'OPN': {2, 4, 6}}\n",
    "question_cols = []\n",
    "question_speed_cols = []\n",
    "question_summary_cols = factors.values()"
   ]
  },
  {
   "cell_type": "code",
   "execution_count": 202,
   "id": "6f36a29f-04fa-452c-866b-3581e0430e51",
   "metadata": {},
   "outputs": [],
   "source": [
    "for fact in factors.keys():\n",
    "    newdf = pd.DataFrame()\n",
    "    s = np.zeros(df.shape[0])\n",
    "    for i in range(1, num_questions+1):\n",
    "        newdf[f'{factors[fact]}{i}'] = df[f'{fact}{i}']\n",
    "        if i in inversion[fact]:\n",
    "            newdf[f'{factors[fact]}{i}'] = 6 - newdf[f'{factors[fact]}{i}']\n",
    "        s += newdf[f'{factors[fact]}{i}']\n",
    "        newdf[f'{factors[fact]}{i}_E'] = df[f'{fact}{i}_E']\n",
    "        df = df.drop([f'{fact}{i}', f'{fact}{i}_E'], axis=1)\n",
    "        question_cols.append(f'{factors[fact]}{i}')\n",
    "        question_speed_cols.append(f'{factors[fact]}{i}_E')\n",
    "    newdf[factors[fact]] = s / num_questions\n",
    "    df = pd.concat([newdf, df], axis=1)"
   ]
  },
  {
   "cell_type": "code",
   "execution_count": 203,
   "id": "f643635d-5ec9-4f9e-a5fb-44b5c78d91d6",
   "metadata": {},
   "outputs": [],
   "source": [
    "df = df.copy() # defragment"
   ]
  },
  {
   "cell_type": "code",
   "execution_count": 204,
   "id": "da2e9ef2-9c95-4351-ac0c-d22ffdfed1e0",
   "metadata": {},
   "outputs": [],
   "source": [
    "df.country = df.country.astype('category')"
   ]
  },
  {
   "cell_type": "code",
   "execution_count": 205,
   "id": "70b3d473-a344-4018-ad2f-23e32a9e26fb",
   "metadata": {},
   "outputs": [],
   "source": [
    "df['startTime'] = pd.to_datetime(df.dateload)\n",
    "df = df.drop(['dateload'], axis=1)"
   ]
  },
  {
   "cell_type": "code",
   "execution_count": 206,
   "id": "d26e0e4b-ef3b-433f-a9b4-a0cdcfbcf0f7",
   "metadata": {},
   "outputs": [],
   "source": [
    "df.lat_appx_lots_of_err = df.lat_appx_lots_of_err.replace(\"NONE\", np.nan).astype('float')\n",
    "df.long_appx_lots_of_err = df.long_appx_lots_of_err.replace(\"NONE\", np.nan).astype('float')"
   ]
  },
  {
   "cell_type": "code",
   "execution_count": 207,
   "id": "d97168b2-ef0c-4359-883f-998dfcd3db5b",
   "metadata": {},
   "outputs": [],
   "source": [
    "demo_cols = df.columns.difference(question_cols).difference(question_speed_cols).difference(question_summary_cols)"
   ]
  },
  {
   "cell_type": "code",
   "execution_count": 208,
   "id": "dc785024-b617-4616-9161-422cb725d9b8",
   "metadata": {},
   "outputs": [],
   "source": [
    "df.endelapse = df.endelapse.astype('int')"
   ]
  },
  {
   "cell_type": "code",
   "execution_count": 209,
   "id": "d702359d-502c-4f52-b3e7-7c2e4abb0755",
   "metadata": {},
   "outputs": [
    {
     "name": "stdout",
     "output_type": "stream",
     "text": [
      "<class 'pandas.core.frame.DataFrame'>\n",
      "RangeIndex: 1015341 entries, 0 to 1015340\n",
      "Columns: 115 entries, openness1 to startTime\n",
      "dtypes: category(1), datetime64[ns](1), float64(111), int64(2)\n",
      "memory usage: 885.0 MB\n"
     ]
    }
   ],
   "source": [
    "df = df.copy()\n",
    "df.info()"
   ]
  },
  {
   "cell_type": "code",
   "execution_count": 210,
   "id": "8f88ee66-681a-430f-b577-b3a9968c72fc",
   "metadata": {},
   "outputs": [],
   "source": [
    "df.to_hdf('data/data.h5', key='all', format='table')"
   ]
  },
  {
   "cell_type": "code",
   "execution_count": 211,
   "id": "316ab97e-78ec-4b4e-b693-385f01911ea2",
   "metadata": {},
   "outputs": [],
   "source": [
    "df = df.dropna(subset=question_cols)\n",
    "for q in question_cols:\n",
    "    df[q] = df[q].astype('int')\n",
    "for q in question_speed_cols:\n",
    "    df[q] = df[q].astype('int')"
   ]
  },
  {
   "cell_type": "code",
   "execution_count": 212,
   "id": "1404a7f0-ebd5-411a-bdac-299116b4ec01",
   "metadata": {},
   "outputs": [],
   "source": [
    "df.to_hdf('data/data.h5', key='all_questions', format='table')"
   ]
  }
 ],
 "metadata": {
  "kernelspec": {
   "display_name": "Python 3 (ipykernel)",
   "language": "python",
   "name": "python3"
  },
  "language_info": {
   "codemirror_mode": {
    "name": "ipython",
    "version": 3
   },
   "file_extension": ".py",
   "mimetype": "text/x-python",
   "name": "python",
   "nbconvert_exporter": "python",
   "pygments_lexer": "ipython3",
   "version": "3.9.15"
  }
 },
 "nbformat": 4,
 "nbformat_minor": 5
}
