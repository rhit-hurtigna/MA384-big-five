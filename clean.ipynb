{
 "cells": [
  {
   "cell_type": "code",
   "execution_count": null,
   "id": "1b9e8526-79e1-4c17-8b94-0aeb280a7d4d",
   "metadata": {},
   "outputs": [],
   "source": [
    "import pandas as pd\n",
    "import numpy as np"
   ]
  },
  {
   "cell_type": "code",
   "execution_count": null,
   "id": "12a6b5bf-243d-4136-b5df-06fcb309d8cb",
   "metadata": {},
   "outputs": [],
   "source": [
    "num_questions = 10"
   ]
  },
  {
   "cell_type": "code",
   "execution_count": null,
   "id": "9523f97c-80f7-4ab4-bf98-e41569476427",
   "metadata": {},
   "outputs": [
    {
     "ename": "AttributeError",
     "evalue": "module 'pandas' has no attribute 'isinf'",
     "output_type": "error",
     "traceback": [
      "\u001b[0;31m---------------------------------------------------------------------------\u001b[0m",
      "\u001b[0;31mAttributeError\u001b[0m                            Traceback (most recent call last)",
      "\u001b[0;32m/tmp/ipykernel_389397/3346096780.py\u001b[0m in \u001b[0;36m<cell line: 1>\u001b[0;34m()\u001b[0m\n\u001b[0;32m----> 1\u001b[0;31m \u001b[0mdf\u001b[0m \u001b[0;34m=\u001b[0m \u001b[0mpd\u001b[0m\u001b[0;34m.\u001b[0m\u001b[0misinf\u001b[0m\u001b[0;34m(\u001b[0m\u001b[0;34m'data/data.csv'\u001b[0m\u001b[0;34m,\u001b[0m \u001b[0msep\u001b[0m\u001b[0;34m=\u001b[0m\u001b[0;34m\"\\t\"\u001b[0m\u001b[0;34m)\u001b[0m\u001b[0;34m\u001b[0m\u001b[0;34m\u001b[0m\u001b[0m\n\u001b[0m",
      "\u001b[0;32m/opt/anaconda3/lib/python3.9/site-packages/pandas/__init__.py\u001b[0m in \u001b[0;36m__getattr__\u001b[0;34m(name)\u001b[0m\n\u001b[1;32m    262\u001b[0m         \u001b[0;32mreturn\u001b[0m \u001b[0m_SparseArray\u001b[0m\u001b[0;34m\u001b[0m\u001b[0;34m\u001b[0m\u001b[0m\n\u001b[1;32m    263\u001b[0m \u001b[0;34m\u001b[0m\u001b[0m\n\u001b[0;32m--> 264\u001b[0;31m     \u001b[0;32mraise\u001b[0m \u001b[0mAttributeError\u001b[0m\u001b[0;34m(\u001b[0m\u001b[0;34mf\"module 'pandas' has no attribute '{name}'\"\u001b[0m\u001b[0;34m)\u001b[0m\u001b[0;34m\u001b[0m\u001b[0;34m\u001b[0m\u001b[0m\n\u001b[0m\u001b[1;32m    265\u001b[0m \u001b[0;34m\u001b[0m\u001b[0m\n\u001b[1;32m    266\u001b[0m \u001b[0;34m\u001b[0m\u001b[0m\n",
      "\u001b[0;31mAttributeError\u001b[0m: module 'pandas' has no attribute 'isinf'"
     ]
    }
   ],
   "source": [
    "df = pd.read_csv('data/data.csv', sep=\"\\t\")"
   ]
  },
  {
   "cell_type": "code",
   "execution_count": null,
   "id": "572f55d8-2aa2-48c7-a61f-4d5e38515950",
   "metadata": {},
   "outputs": [],
   "source": [
    "factors = {'EXT': 'extraversion', 'EST': 'stability', 'AGR': 'agreeableness', 'CSN': 'conscientiousness', 'OPN': 'openness'}\n",
    "inversion = {'EXT': {2, 4, 6, 8, 10}, 'AGR': {1, 3, 5, 7}, 'EST': {1, 3, 5, 6, 7, 8, 9, 10}, 'CSN': {2, 4, 6, 8}, 'OPN': {2, 4, 6}}\n",
    "question_cols = []\n",
    "question_speed_cols = []\n",
    "question_summary_cols = factors.values()"
   ]
  },
  {
   "cell_type": "code",
   "execution_count": null,
   "id": "6f36a29f-04fa-452c-866b-3581e0430e51",
   "metadata": {},
   "outputs": [
    {
     "ename": "NameError",
     "evalue": "name 'df' is not defined",
     "output_type": "error",
     "traceback": [
      "\u001b[0;31m---------------------------------------------------------------------------\u001b[0m",
      "\u001b[0;31mNameError\u001b[0m                                 Traceback (most recent call last)",
      "\u001b[0;32m/tmp/ipykernel_391895/1735171673.py\u001b[0m in \u001b[0;36m<cell line: 1>\u001b[0;34m()\u001b[0m\n\u001b[1;32m      1\u001b[0m \u001b[0;32mfor\u001b[0m \u001b[0mfact\u001b[0m \u001b[0;32min\u001b[0m \u001b[0mfactors\u001b[0m\u001b[0;34m.\u001b[0m\u001b[0mkeys\u001b[0m\u001b[0;34m(\u001b[0m\u001b[0;34m)\u001b[0m\u001b[0;34m:\u001b[0m\u001b[0;34m\u001b[0m\u001b[0;34m\u001b[0m\u001b[0m\n\u001b[1;32m      2\u001b[0m     \u001b[0mnewdf\u001b[0m \u001b[0;34m=\u001b[0m \u001b[0mpd\u001b[0m\u001b[0;34m.\u001b[0m\u001b[0mDataFrame\u001b[0m\u001b[0;34m(\u001b[0m\u001b[0;34m)\u001b[0m\u001b[0;34m\u001b[0m\u001b[0;34m\u001b[0m\u001b[0m\n\u001b[0;32m----> 3\u001b[0;31m     \u001b[0ms\u001b[0m \u001b[0;34m=\u001b[0m \u001b[0mnp\u001b[0m\u001b[0;34m.\u001b[0m\u001b[0mzeros\u001b[0m\u001b[0;34m(\u001b[0m\u001b[0mdf\u001b[0m\u001b[0;34m.\u001b[0m\u001b[0mshape\u001b[0m\u001b[0;34m[\u001b[0m\u001b[0;36m0\u001b[0m\u001b[0;34m]\u001b[0m\u001b[0;34m)\u001b[0m\u001b[0;34m\u001b[0m\u001b[0;34m\u001b[0m\u001b[0m\n\u001b[0m\u001b[1;32m      4\u001b[0m     \u001b[0;32mfor\u001b[0m \u001b[0mi\u001b[0m \u001b[0;32min\u001b[0m \u001b[0mrange\u001b[0m\u001b[0;34m(\u001b[0m\u001b[0;36m1\u001b[0m\u001b[0;34m,\u001b[0m \u001b[0mnum_questions\u001b[0m\u001b[0;34m+\u001b[0m\u001b[0;36m1\u001b[0m\u001b[0;34m)\u001b[0m\u001b[0;34m:\u001b[0m\u001b[0;34m\u001b[0m\u001b[0;34m\u001b[0m\u001b[0m\n\u001b[1;32m      5\u001b[0m         \u001b[0mnewdf\u001b[0m\u001b[0;34m[\u001b[0m\u001b[0;34mf'{factors[fact]}{i}'\u001b[0m\u001b[0;34m]\u001b[0m \u001b[0;34m=\u001b[0m \u001b[0mdf\u001b[0m\u001b[0;34m[\u001b[0m\u001b[0;34mf'{fact}{i}'\u001b[0m\u001b[0;34m]\u001b[0m\u001b[0;34m\u001b[0m\u001b[0;34m\u001b[0m\u001b[0m\n",
      "\u001b[0;31mNameError\u001b[0m: name 'df' is not defined"
     ]
    }
   ],
   "source": [
    "for fact in factors.keys():\n",
    "    newdf = pd.DataFrame()\n",
    "    s = np.zeros(df.shape[0])\n",
    "    for i in range(1, num_questions+1):\n",
    "        newdf[f'{factors[fact]}{i}'] = df[f'{fact}{i}']\n",
    "        if i in inversion[fact]:\n",
    "            newdf[f'{factors[fact]}{i}'] = 6 - newdf[f'{factors[fact]}{i}']\n",
    "        s += newdf[f'{factors[fact]}{i}']\n",
    "        newdf[f'{factors[fact]}{i}_E'] = df[f'{fact}{i}_E']\n",
    "        df = df.drop([f'{fact}{i}', f'{fact}{i}_E'], axis=1)\n",
    "        question_cols.append(f'{factors[fact]}{i}')\n",
    "        question_speed_cols.append(f'{factors[fact]}{i}_E')\n",
    "    newdf[factors[fact]] = s / num_questions\n",
    "    df = pd.concat([newdf, df], axis=1)"
   ]
  },
  {
   "cell_type": "code",
   "execution_count": null,
   "id": "f643635d-5ec9-4f9e-a5fb-44b5c78d91d6",
   "metadata": {},
   "outputs": [],
   "source": [
    "df = df.copy() # defragment"
   ]
  },
  {
   "cell_type": "code",
   "execution_count": null,
   "id": "da2e9ef2-9c95-4351-ac0c-d22ffdfed1e0",
   "metadata": {},
   "outputs": [],
   "source": [
    "df.country = df.country.astype('category')"
   ]
  },
  {
   "cell_type": "code",
   "execution_count": null,
   "id": "70b3d473-a344-4018-ad2f-23e32a9e26fb",
   "metadata": {},
   "outputs": [],
   "source": [
    "df['startTime'] = pd.to_datetime(df.dateload)\n",
    "df = df.drop(['dateload'], axis=1)"
   ]
  },
  {
   "cell_type": "code",
   "execution_count": null,
   "id": "d26e0e4b-ef3b-433f-a9b4-a0cdcfbcf0f7",
   "metadata": {},
   "outputs": [],
   "source": [
    "df.lat_appx_lots_of_err = df.lat_appx_lots_of_err.replace(\"NONE\", np.nan).astype('float')\n",
    "df.long_appx_lots_of_err = df.long_appx_lots_of_err.replace(\"NONE\", np.nan).astype('float')"
   ]
  },
  {
   "cell_type": "code",
   "execution_count": null,
   "id": "d97168b2-ef0c-4359-883f-998dfcd3db5b",
   "metadata": {},
   "outputs": [],
   "source": [
    "demo_cols = df.columns.difference(question_cols).difference(question_speed_cols).difference(question_summary_cols)"
   ]
  },
  {
   "cell_type": "code",
   "execution_count": null,
   "id": "dc785024-b617-4616-9161-422cb725d9b8",
   "metadata": {},
   "outputs": [],
   "source": [
    "df.endelapse = df.endelapse.astype('int')"
   ]
  },
  {
   "cell_type": "code",
   "execution_count": null,
   "id": "d702359d-502c-4f52-b3e7-7c2e4abb0755",
   "metadata": {},
   "outputs": [],
   "source": [
    "df = df.copy()"
   ]
  },
  {
   "cell_type": "code",
   "execution_count": null,
   "id": "8f88ee66-681a-430f-b577-b3a9968c72fc",
   "metadata": {},
   "outputs": [],
   "source": [
    "df.to_hdf('data/data.h5', key='all', format='table')"
   ]
  },
  {
   "cell_type": "code",
   "execution_count": null,
   "id": "316ab97e-78ec-4b4e-b693-385f01911ea2",
   "metadata": {},
   "outputs": [],
   "source": [
    "df = df.dropna(subset=question_cols)\n",
    "for q in question_cols:\n",
    "    df[q] = df[q].astype('int')\n",
    "for q in question_speed_cols:\n",
    "    df[q] = df[q].astype('int')"
   ]
  },
  {
   "cell_type": "code",
   "execution_count": null,
   "id": "1404a7f0-ebd5-411a-bdac-299116b4ec01",
   "metadata": {},
   "outputs": [],
   "source": [
    "df.to_hdf('data/data.h5', key='all_questions', format='table')"
   ]
  }
 ],
 "metadata": {
  "kernelspec": {
   "display_name": "Python 3 (ipykernel)",
   "language": "python",
   "name": "python3"
  },
  "language_info": {
   "codemirror_mode": {
    "name": "ipython",
    "version": 3
   },
   "file_extension": ".py",
   "mimetype": "text/x-python",
   "name": "python",
   "nbconvert_exporter": "python",
   "pygments_lexer": "ipython3",
   "version": "3.9.15"
  }
 },
 "nbformat": 4,
 "nbformat_minor": 5
}
